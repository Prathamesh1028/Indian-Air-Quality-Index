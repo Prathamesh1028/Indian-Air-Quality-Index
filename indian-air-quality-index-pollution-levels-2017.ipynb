{
 "cells": [
  {
   "cell_type": "code",
   "execution_count": 1,
   "id": "5f75225a",
   "metadata": {
    "execution": {
     "iopub.execute_input": "2022-06-29T11:59:36.467941Z",
     "iopub.status.busy": "2022-06-29T11:59:36.467357Z",
     "iopub.status.idle": "2022-06-29T11:59:37.524008Z",
     "shell.execute_reply": "2022-06-29T11:59:37.523063Z"
    },
    "id": "af-Jeg2FAK56",
    "papermill": {
     "duration": 1.074824,
     "end_time": "2022-06-29T11:59:37.526573",
     "exception": false,
     "start_time": "2022-06-29T11:59:36.451749",
     "status": "completed"
    },
    "tags": []
   },
   "outputs": [],
   "source": [
    "import pandas as pd\n",
    "import numpy as np\n",
    "import seaborn as sns\n",
    "import matplotlib.pyplot as plt\n",
    "%matplotlib inline"
   ]
  },
  {
   "cell_type": "code",
   "execution_count": 2,
   "id": "04a3243b",
   "metadata": {
    "execution": {
     "iopub.execute_input": "2022-06-29T11:59:37.554417Z",
     "iopub.status.busy": "2022-06-29T11:59:37.553968Z",
     "iopub.status.idle": "2022-06-29T11:59:37.632162Z",
     "shell.execute_reply": "2022-06-29T11:59:37.631309Z"
    },
    "id": "BfbsBAyMAvzv",
    "outputId": "d9d6e76a-086b-4324-baae-d4de19cbaf41",
    "papermill": {
     "duration": 0.09537,
     "end_time": "2022-06-29T11:59:37.635186",
     "exception": false,
     "start_time": "2022-06-29T11:59:37.539816",
     "status": "completed"
    },
    "tags": []
   },
   "outputs": [
    {
     "data": {
      "text/html": [
       "<div>\n",
       "<style scoped>\n",
       "    .dataframe tbody tr th:only-of-type {\n",
       "        vertical-align: middle;\n",
       "    }\n",
       "\n",
       "    .dataframe tbody tr th {\n",
       "        vertical-align: top;\n",
       "    }\n",
       "\n",
       "    .dataframe thead th {\n",
       "        text-align: right;\n",
       "    }\n",
       "</style>\n",
       "<table border=\"1\" class=\"dataframe\">\n",
       "  <thead>\n",
       "    <tr style=\"text-align: right;\">\n",
       "      <th></th>\n",
       "      <th>Timestamp</th>\n",
       "      <th>Year</th>\n",
       "      <th>Month</th>\n",
       "      <th>Day</th>\n",
       "      <th>Hour</th>\n",
       "      <th>PM2.5</th>\n",
       "    </tr>\n",
       "  </thead>\n",
       "  <tbody>\n",
       "    <tr>\n",
       "      <th>0</th>\n",
       "      <td>2017-11-07 12:00:00</td>\n",
       "      <td>2017</td>\n",
       "      <td>11</td>\n",
       "      <td>7</td>\n",
       "      <td>12</td>\n",
       "      <td>64.51</td>\n",
       "    </tr>\n",
       "    <tr>\n",
       "      <th>1</th>\n",
       "      <td>2017-11-07 13:00:00</td>\n",
       "      <td>2017</td>\n",
       "      <td>11</td>\n",
       "      <td>7</td>\n",
       "      <td>13</td>\n",
       "      <td>69.95</td>\n",
       "    </tr>\n",
       "    <tr>\n",
       "      <th>2</th>\n",
       "      <td>2017-11-07 14:00:00</td>\n",
       "      <td>2017</td>\n",
       "      <td>11</td>\n",
       "      <td>7</td>\n",
       "      <td>14</td>\n",
       "      <td>92.79</td>\n",
       "    </tr>\n",
       "    <tr>\n",
       "      <th>3</th>\n",
       "      <td>2017-11-07 15:00:00</td>\n",
       "      <td>2017</td>\n",
       "      <td>11</td>\n",
       "      <td>7</td>\n",
       "      <td>15</td>\n",
       "      <td>109.66</td>\n",
       "    </tr>\n",
       "    <tr>\n",
       "      <th>4</th>\n",
       "      <td>2017-11-07 16:00:00</td>\n",
       "      <td>2017</td>\n",
       "      <td>11</td>\n",
       "      <td>7</td>\n",
       "      <td>16</td>\n",
       "      <td>116.50</td>\n",
       "    </tr>\n",
       "  </tbody>\n",
       "</table>\n",
       "</div>"
      ],
      "text/plain": [
       "             Timestamp  Year  Month  Day  Hour   PM2.5\n",
       "0  2017-11-07 12:00:00  2017     11    7    12   64.51\n",
       "1  2017-11-07 13:00:00  2017     11    7    13   69.95\n",
       "2  2017-11-07 14:00:00  2017     11    7    14   92.79\n",
       "3  2017-11-07 15:00:00  2017     11    7    15  109.66\n",
       "4  2017-11-07 16:00:00  2017     11    7    16  116.50"
      ]
     },
     "execution_count": 2,
     "metadata": {},
     "output_type": "execute_result"
    }
   ],
   "source": [
    "df=pd.read_csv('/kaggle/input/air-quality-data-in-india/air-quality-india.csv')\n",
    "df.head() "
   ]
  },
  {
   "cell_type": "code",
   "execution_count": 3,
   "id": "f45504e8",
   "metadata": {
    "execution": {
     "iopub.execute_input": "2022-06-29T11:59:37.663128Z",
     "iopub.status.busy": "2022-06-29T11:59:37.662210Z",
     "iopub.status.idle": "2022-06-29T11:59:37.667842Z",
     "shell.execute_reply": "2022-06-29T11:59:37.667048Z"
    },
    "id": "lW9UTJZdAvxT",
    "outputId": "89252512-0cab-4f1b-98b4-7ab9ced495d7",
    "papermill": {
     "duration": 0.021366,
     "end_time": "2022-06-29T11:59:37.669660",
     "exception": false,
     "start_time": "2022-06-29T11:59:37.648294",
     "status": "completed"
    },
    "tags": []
   },
   "outputs": [
    {
     "data": {
      "text/plain": [
       "(36192, 6)"
      ]
     },
     "execution_count": 3,
     "metadata": {},
     "output_type": "execute_result"
    }
   ],
   "source": [
    "df.shape"
   ]
  },
  {
   "cell_type": "markdown",
   "id": "fc220399",
   "metadata": {
    "papermill": {
     "duration": 0.012651,
     "end_time": "2022-06-29T11:59:37.695443",
     "exception": false,
     "start_time": "2022-06-29T11:59:37.682792",
     "status": "completed"
    },
    "tags": []
   },
   "source": [
    "This dataset contains 36192 rows and 6 columns."
   ]
  },
  {
   "cell_type": "code",
   "execution_count": 4,
   "id": "143e89c6",
   "metadata": {
    "execution": {
     "iopub.execute_input": "2022-06-29T11:59:37.722972Z",
     "iopub.status.busy": "2022-06-29T11:59:37.722589Z",
     "iopub.status.idle": "2022-06-29T11:59:37.731613Z",
     "shell.execute_reply": "2022-06-29T11:59:37.730975Z"
    },
    "papermill": {
     "duration": 0.02497,
     "end_time": "2022-06-29T11:59:37.733322",
     "exception": false,
     "start_time": "2022-06-29T11:59:37.708352",
     "status": "completed"
    },
    "tags": []
   },
   "outputs": [
    {
     "data": {
      "text/plain": [
       "2017"
      ]
     },
     "execution_count": 4,
     "metadata": {},
     "output_type": "execute_result"
    }
   ],
   "source": [
    "df['Year'].min()"
   ]
  },
  {
   "cell_type": "code",
   "execution_count": 5,
   "id": "c64231fc",
   "metadata": {
    "execution": {
     "iopub.execute_input": "2022-06-29T11:59:37.762166Z",
     "iopub.status.busy": "2022-06-29T11:59:37.761598Z",
     "iopub.status.idle": "2022-06-29T11:59:37.766779Z",
     "shell.execute_reply": "2022-06-29T11:59:37.766204Z"
    },
    "papermill": {
     "duration": 0.021476,
     "end_time": "2022-06-29T11:59:37.768487",
     "exception": false,
     "start_time": "2022-06-29T11:59:37.747011",
     "status": "completed"
    },
    "tags": []
   },
   "outputs": [
    {
     "data": {
      "text/plain": [
       "2022"
      ]
     },
     "execution_count": 5,
     "metadata": {},
     "output_type": "execute_result"
    }
   ],
   "source": [
    "df['Year'].max()"
   ]
  },
  {
   "cell_type": "markdown",
   "id": "50726eb5",
   "metadata": {
    "id": "VDtnvu8PLWU3",
    "papermill": {
     "duration": 0.013401,
     "end_time": "2022-06-29T11:59:37.796119",
     "exception": false,
     "start_time": "2022-06-29T11:59:37.782718",
     "status": "completed"
    },
    "tags": []
   },
   "source": [
    "The min and max value in the dataset is from 2017 to 2022"
   ]
  },
  {
   "cell_type": "code",
   "execution_count": 6,
   "id": "206dc5c9",
   "metadata": {
    "execution": {
     "iopub.execute_input": "2022-06-29T11:59:37.826417Z",
     "iopub.status.busy": "2022-06-29T11:59:37.825777Z",
     "iopub.status.idle": "2022-06-29T11:59:37.864996Z",
     "shell.execute_reply": "2022-06-29T11:59:37.864150Z"
    },
    "id": "k7lct1hAAvvc",
    "outputId": "d58b4f07-76eb-4c23-825b-ae7ac048bbf2",
    "papermill": {
     "duration": 0.056394,
     "end_time": "2022-06-29T11:59:37.866916",
     "exception": false,
     "start_time": "2022-06-29T11:59:37.810522",
     "status": "completed"
    },
    "tags": []
   },
   "outputs": [
    {
     "data": {
      "text/html": [
       "<div>\n",
       "<style scoped>\n",
       "    .dataframe tbody tr th:only-of-type {\n",
       "        vertical-align: middle;\n",
       "    }\n",
       "\n",
       "    .dataframe tbody tr th {\n",
       "        vertical-align: top;\n",
       "    }\n",
       "\n",
       "    .dataframe thead th {\n",
       "        text-align: right;\n",
       "    }\n",
       "</style>\n",
       "<table border=\"1\" class=\"dataframe\">\n",
       "  <thead>\n",
       "    <tr style=\"text-align: right;\">\n",
       "      <th></th>\n",
       "      <th>Year</th>\n",
       "      <th>Month</th>\n",
       "      <th>Day</th>\n",
       "      <th>Hour</th>\n",
       "      <th>PM2.5</th>\n",
       "    </tr>\n",
       "  </thead>\n",
       "  <tbody>\n",
       "    <tr>\n",
       "      <th>count</th>\n",
       "      <td>36192.000000</td>\n",
       "      <td>36192.000000</td>\n",
       "      <td>36192.000000</td>\n",
       "      <td>36192.000000</td>\n",
       "      <td>36192.000000</td>\n",
       "    </tr>\n",
       "    <tr>\n",
       "      <th>mean</th>\n",
       "      <td>2019.682278</td>\n",
       "      <td>6.331841</td>\n",
       "      <td>15.716401</td>\n",
       "      <td>11.477840</td>\n",
       "      <td>49.308429</td>\n",
       "    </tr>\n",
       "    <tr>\n",
       "      <th>std</th>\n",
       "      <td>1.345011</td>\n",
       "      <td>3.593321</td>\n",
       "      <td>8.859769</td>\n",
       "      <td>6.925088</td>\n",
       "      <td>24.863511</td>\n",
       "    </tr>\n",
       "    <tr>\n",
       "      <th>min</th>\n",
       "      <td>2017.000000</td>\n",
       "      <td>1.000000</td>\n",
       "      <td>1.000000</td>\n",
       "      <td>0.000000</td>\n",
       "      <td>7.020000</td>\n",
       "    </tr>\n",
       "    <tr>\n",
       "      <th>25%</th>\n",
       "      <td>2019.000000</td>\n",
       "      <td>3.000000</td>\n",
       "      <td>8.000000</td>\n",
       "      <td>5.000000</td>\n",
       "      <td>28.080000</td>\n",
       "    </tr>\n",
       "    <tr>\n",
       "      <th>50%</th>\n",
       "      <td>2020.000000</td>\n",
       "      <td>6.000000</td>\n",
       "      <td>16.000000</td>\n",
       "      <td>11.000000</td>\n",
       "      <td>45.730000</td>\n",
       "    </tr>\n",
       "    <tr>\n",
       "      <th>75%</th>\n",
       "      <td>2021.000000</td>\n",
       "      <td>10.000000</td>\n",
       "      <td>23.000000</td>\n",
       "      <td>17.000000</td>\n",
       "      <td>64.520000</td>\n",
       "    </tr>\n",
       "    <tr>\n",
       "      <th>max</th>\n",
       "      <td>2022.000000</td>\n",
       "      <td>12.000000</td>\n",
       "      <td>31.000000</td>\n",
       "      <td>23.000000</td>\n",
       "      <td>245.630000</td>\n",
       "    </tr>\n",
       "  </tbody>\n",
       "</table>\n",
       "</div>"
      ],
      "text/plain": [
       "               Year         Month           Day          Hour         PM2.5\n",
       "count  36192.000000  36192.000000  36192.000000  36192.000000  36192.000000\n",
       "mean    2019.682278      6.331841     15.716401     11.477840     49.308429\n",
       "std        1.345011      3.593321      8.859769      6.925088     24.863511\n",
       "min     2017.000000      1.000000      1.000000      0.000000      7.020000\n",
       "25%     2019.000000      3.000000      8.000000      5.000000     28.080000\n",
       "50%     2020.000000      6.000000     16.000000     11.000000     45.730000\n",
       "75%     2021.000000     10.000000     23.000000     17.000000     64.520000\n",
       "max     2022.000000     12.000000     31.000000     23.000000    245.630000"
      ]
     },
     "execution_count": 6,
     "metadata": {},
     "output_type": "execute_result"
    }
   ],
   "source": [
    "df.describe()"
   ]
  },
  {
   "cell_type": "markdown",
   "id": "b1e3ff1e",
   "metadata": {
    "id": "Rj-8ACuFLn2X",
    "papermill": {
     "duration": 0.013397,
     "end_time": "2022-06-29T11:59:37.894283",
     "exception": false,
     "start_time": "2022-06-29T11:59:37.880886",
     "status": "completed"
    },
    "tags": []
   },
   "source": [
    "*the above cell gives the information regarding the aggregation values that is the mean , std deviation , min max of the values in the dataset. Also, the col^m labels can be studied  * *italicized text*"
   ]
  },
  {
   "cell_type": "code",
   "execution_count": 7,
   "id": "1b9d2d70",
   "metadata": {
    "execution": {
     "iopub.execute_input": "2022-06-29T11:59:37.923284Z",
     "iopub.status.busy": "2022-06-29T11:59:37.922885Z",
     "iopub.status.idle": "2022-06-29T11:59:37.943359Z",
     "shell.execute_reply": "2022-06-29T11:59:37.942368Z"
    },
    "id": "oBPx4HvgAvsl",
    "outputId": "e602153a-1a0e-483e-c327-d28233bef19f",
    "papermill": {
     "duration": 0.03732,
     "end_time": "2022-06-29T11:59:37.945318",
     "exception": false,
     "start_time": "2022-06-29T11:59:37.907998",
     "status": "completed"
    },
    "tags": []
   },
   "outputs": [
    {
     "name": "stdout",
     "output_type": "stream",
     "text": [
      "<class 'pandas.core.frame.DataFrame'>\n",
      "RangeIndex: 36192 entries, 0 to 36191\n",
      "Data columns (total 6 columns):\n",
      " #   Column     Non-Null Count  Dtype  \n",
      "---  ------     --------------  -----  \n",
      " 0   Timestamp  36192 non-null  object \n",
      " 1   Year       36192 non-null  int64  \n",
      " 2   Month      36192 non-null  int64  \n",
      " 3   Day        36192 non-null  int64  \n",
      " 4   Hour       36192 non-null  int64  \n",
      " 5   PM2.5      36192 non-null  float64\n",
      "dtypes: float64(1), int64(4), object(1)\n",
      "memory usage: 1.7+ MB\n"
     ]
    }
   ],
   "source": [
    "df.info()"
   ]
  },
  {
   "cell_type": "markdown",
   "id": "81d54b64",
   "metadata": {
    "id": "Qb2Gn_9ANc4_",
    "papermill": {
     "duration": 0.013164,
     "end_time": "2022-06-29T11:59:37.972169",
     "exception": false,
     "start_time": "2022-06-29T11:59:37.959005",
     "status": "completed"
    },
    "tags": []
   },
   "source": [
    "*above code provides the inforamtion regarding the column labels, null and notnull values and its datatype, from the above code it can be interpretted that , the colms PM2.5 has float64 datatype , while TIMESTAMP has object , and rest are having int64 datatype.*"
   ]
  },
  {
   "cell_type": "code",
   "execution_count": 8,
   "id": "5489fa3d",
   "metadata": {
    "execution": {
     "iopub.execute_input": "2022-06-29T11:59:38.001841Z",
     "iopub.status.busy": "2022-06-29T11:59:38.001092Z",
     "iopub.status.idle": "2022-06-29T11:59:38.014346Z",
     "shell.execute_reply": "2022-06-29T11:59:38.013369Z"
    },
    "id": "tkORHf8EAve3",
    "outputId": "7192f971-c4a8-409c-b0d7-2e921b566e26",
    "papermill": {
     "duration": 0.030118,
     "end_time": "2022-06-29T11:59:38.016176",
     "exception": false,
     "start_time": "2022-06-29T11:59:37.986058",
     "status": "completed"
    },
    "tags": []
   },
   "outputs": [
    {
     "data": {
      "text/plain": [
       "Timestamp    0\n",
       "Year         0\n",
       "Month        0\n",
       "Day          0\n",
       "Hour         0\n",
       "PM2.5        0\n",
       "dtype: int64"
      ]
     },
     "execution_count": 8,
     "metadata": {},
     "output_type": "execute_result"
    }
   ],
   "source": [
    "df.isnull().sum()"
   ]
  },
  {
   "cell_type": "markdown",
   "id": "32079ea7",
   "metadata": {
    "id": "LfG5dAo5OK8K",
    "papermill": {
     "duration": 0.013644,
     "end_time": "2022-06-29T11:59:38.043913",
     "exception": false,
     "start_time": "2022-06-29T11:59:38.030269",
     "status": "completed"
    },
    "tags": []
   },
   "source": [
    "*there are zero null values in the dataset*\n",
    "\n"
   ]
  },
  {
   "cell_type": "code",
   "execution_count": 9,
   "id": "13d24171",
   "metadata": {
    "execution": {
     "iopub.execute_input": "2022-06-29T11:59:38.073874Z",
     "iopub.status.busy": "2022-06-29T11:59:38.073285Z",
     "iopub.status.idle": "2022-06-29T11:59:38.086411Z",
     "shell.execute_reply": "2022-06-29T11:59:38.085405Z"
    },
    "id": "ZPiQmdn6AvdI",
    "outputId": "7f27b49c-7f6b-4791-9e07-80d01178680d",
    "papermill": {
     "duration": 0.030531,
     "end_time": "2022-06-29T11:59:38.088310",
     "exception": false,
     "start_time": "2022-06-29T11:59:38.057779",
     "status": "completed"
    },
    "tags": []
   },
   "outputs": [
    {
     "data": {
      "text/plain": [
       "Timestamp    36192\n",
       "Year         36192\n",
       "Month        36192\n",
       "Day          36192\n",
       "Hour         36192\n",
       "PM2.5        36192\n",
       "dtype: int64"
      ]
     },
     "execution_count": 9,
     "metadata": {},
     "output_type": "execute_result"
    }
   ],
   "source": [
    "df.notnull().sum()"
   ]
  },
  {
   "cell_type": "markdown",
   "id": "4a33abb4",
   "metadata": {
    "id": "fXKzoDkTOZ3e",
    "papermill": {
     "duration": 0.013541,
     "end_time": "2022-06-29T11:59:38.116449",
     "exception": false,
     "start_time": "2022-06-29T11:59:38.102908",
     "status": "completed"
    },
    "tags": []
   },
   "source": [
    "*there are no null values in the dataset.*"
   ]
  },
  {
   "cell_type": "code",
   "execution_count": 10,
   "id": "7c216f25",
   "metadata": {
    "execution": {
     "iopub.execute_input": "2022-06-29T11:59:38.146274Z",
     "iopub.status.busy": "2022-06-29T11:59:38.145699Z",
     "iopub.status.idle": "2022-06-29T11:59:38.215803Z",
     "shell.execute_reply": "2022-06-29T11:59:38.214880Z"
    },
    "id": "6aYL1M6vAvY3",
    "outputId": "c2702ada-e897-4500-9caf-d8c680d55b1e",
    "papermill": {
     "duration": 0.087499,
     "end_time": "2022-06-29T11:59:38.217775",
     "exception": false,
     "start_time": "2022-06-29T11:59:38.130276",
     "status": "completed"
    },
    "tags": []
   },
   "outputs": [
    {
     "data": {
      "text/plain": [
       "Timestamp            Year  Month  Day  Hour  PM2.5\n",
       "2017-11-07 12:00:00  2017  11     7    12    64.51    1\n",
       "2020-12-07 16:00:00  2020  12     7    16    93.62    1\n",
       "2020-12-07 10:00:00  2020  12     7    10    64.77    1\n",
       "2020-12-07 11:00:00  2020  12     7    11    54.93    1\n",
       "2020-12-07 12:00:00  2020  12     7    12    55.11    1\n",
       "                                                     ..\n",
       "2019-05-26 04:00:00  2019  5      26   4     39.87    1\n",
       "2019-05-26 03:00:00  2019  5      26   3     36.38    1\n",
       "2019-05-26 02:00:00  2019  5      26   2     36.18    1\n",
       "2019-05-26 01:00:00  2019  5      26   1     35.94    1\n",
       "2022-06-04 15:00:00  2022  6      4    15    40.67    1\n",
       "Length: 36192, dtype: int64"
      ]
     },
     "execution_count": 10,
     "metadata": {},
     "output_type": "execute_result"
    }
   ],
   "source": [
    "df.value_counts()"
   ]
  },
  {
   "cell_type": "markdown",
   "id": "ce71e516",
   "metadata": {
    "id": "HusCFUd8OiDe",
    "papermill": {
     "duration": 0.013963,
     "end_time": "2022-06-29T11:59:38.245769",
     "exception": false,
     "start_time": "2022-06-29T11:59:38.231806",
     "status": "completed"
    },
    "tags": []
   },
   "source": [
    "*The Above code value_counts() function return a Series containing counts of unique values in the dataset*"
   ]
  },
  {
   "cell_type": "code",
   "execution_count": 11,
   "id": "e8a654e7",
   "metadata": {
    "execution": {
     "iopub.execute_input": "2022-06-29T11:59:38.275819Z",
     "iopub.status.busy": "2022-06-29T11:59:38.275212Z",
     "iopub.status.idle": "2022-06-29T11:59:38.282130Z",
     "shell.execute_reply": "2022-06-29T11:59:38.281307Z"
    },
    "id": "C_eS7M6RCxFZ",
    "outputId": "6eeeb9d3-28a1-489f-c6cf-a20155d4426a",
    "papermill": {
     "duration": 0.023975,
     "end_time": "2022-06-29T11:59:38.283922",
     "exception": false,
     "start_time": "2022-06-29T11:59:38.259947",
     "status": "completed"
    },
    "tags": []
   },
   "outputs": [
    {
     "data": {
      "text/plain": [
       "Timestamp     object\n",
       "Year           int64\n",
       "Month          int64\n",
       "Day            int64\n",
       "Hour           int64\n",
       "PM2.5        float64\n",
       "dtype: object"
      ]
     },
     "execution_count": 11,
     "metadata": {},
     "output_type": "execute_result"
    }
   ],
   "source": [
    "df.dtypes"
   ]
  },
  {
   "cell_type": "markdown",
   "id": "cc580cef",
   "metadata": {
    "id": "y7mImE3yQTqE",
    "papermill": {
     "duration": 0.013742,
     "end_time": "2022-06-29T11:59:38.311743",
     "exception": false,
     "start_time": "2022-06-29T11:59:38.298001",
     "status": "completed"
    },
    "tags": []
   },
   "source": [
    "*the above dataset is giving the type of data in the dataset.*"
   ]
  },
  {
   "cell_type": "code",
   "execution_count": 12,
   "id": "e254a2c9",
   "metadata": {
    "execution": {
     "iopub.execute_input": "2022-06-29T11:59:38.341791Z",
     "iopub.status.busy": "2022-06-29T11:59:38.341192Z",
     "iopub.status.idle": "2022-06-29T11:59:38.353032Z",
     "shell.execute_reply": "2022-06-29T11:59:38.352099Z"
    },
    "id": "EB7jr7QACxDC",
    "outputId": "6c0ceab8-650a-47ef-82c6-68604c80a778",
    "papermill": {
     "duration": 0.029117,
     "end_time": "2022-06-29T11:59:38.354906",
     "exception": false,
     "start_time": "2022-06-29T11:59:38.325789",
     "status": "completed"
    },
    "tags": []
   },
   "outputs": [
    {
     "data": {
      "text/plain": [
       "array(['2017-11-07 12:00:00', '2017-11-07 13:00:00',\n",
       "       '2017-11-07 14:00:00', ..., '2022-06-04 13:00:00',\n",
       "       '2022-06-04 14:00:00', '2022-06-04 15:00:00'], dtype=object)"
      ]
     },
     "execution_count": 12,
     "metadata": {},
     "output_type": "execute_result"
    }
   ],
   "source": [
    "df['Timestamp'].unique()"
   ]
  },
  {
   "cell_type": "code",
   "execution_count": 13,
   "id": "cf485829",
   "metadata": {
    "execution": {
     "iopub.execute_input": "2022-06-29T11:59:38.384492Z",
     "iopub.status.busy": "2022-06-29T11:59:38.383855Z",
     "iopub.status.idle": "2022-06-29T11:59:38.400742Z",
     "shell.execute_reply": "2022-06-29T11:59:38.399825Z"
    },
    "id": "qYCM1CKjCxAp",
    "outputId": "5d0760fb-376b-4d59-ffc2-4db562384d63",
    "papermill": {
     "duration": 0.033689,
     "end_time": "2022-06-29T11:59:38.402622",
     "exception": false,
     "start_time": "2022-06-29T11:59:38.368933",
     "status": "completed"
    },
    "tags": []
   },
   "outputs": [
    {
     "data": {
      "text/plain": [
       "0"
      ]
     },
     "execution_count": 13,
     "metadata": {},
     "output_type": "execute_result"
    }
   ],
   "source": [
    "df.duplicated().sum()"
   ]
  },
  {
   "cell_type": "markdown",
   "id": "48020c81",
   "metadata": {
    "id": "JiybtSOrRHKL",
    "papermill": {
     "duration": 0.013925,
     "end_time": "2022-06-29T11:59:38.431028",
     "exception": false,
     "start_time": "2022-06-29T11:59:38.417103",
     "status": "completed"
    },
    "tags": []
   },
   "source": [
    "*the above code checks, whether , the dataset have any duplicated values or not. Here the dataset has no duplicate values*"
   ]
  },
  {
   "cell_type": "code",
   "execution_count": 14,
   "id": "14db0023",
   "metadata": {
    "execution": {
     "iopub.execute_input": "2022-06-29T11:59:38.461631Z",
     "iopub.status.busy": "2022-06-29T11:59:38.461018Z",
     "iopub.status.idle": "2022-06-29T11:59:38.491478Z",
     "shell.execute_reply": "2022-06-29T11:59:38.490544Z"
    },
    "id": "-AedU6k7D8o0",
    "outputId": "7ac9fc23-285e-4b47-88b8-e683d9ae89c2",
    "papermill": {
     "duration": 0.047966,
     "end_time": "2022-06-29T11:59:38.493473",
     "exception": false,
     "start_time": "2022-06-29T11:59:38.445507",
     "status": "completed"
    },
    "tags": []
   },
   "outputs": [
    {
     "data": {
      "text/html": [
       "<div>\n",
       "<style scoped>\n",
       "    .dataframe tbody tr th:only-of-type {\n",
       "        vertical-align: middle;\n",
       "    }\n",
       "\n",
       "    .dataframe tbody tr th {\n",
       "        vertical-align: top;\n",
       "    }\n",
       "\n",
       "    .dataframe thead th {\n",
       "        text-align: right;\n",
       "    }\n",
       "</style>\n",
       "<table border=\"1\" class=\"dataframe\">\n",
       "  <thead>\n",
       "    <tr style=\"text-align: right;\">\n",
       "      <th>Year</th>\n",
       "      <th>2017</th>\n",
       "      <th>2018</th>\n",
       "      <th>2019</th>\n",
       "      <th>2020</th>\n",
       "      <th>2021</th>\n",
       "      <th>2022</th>\n",
       "    </tr>\n",
       "    <tr>\n",
       "      <th>Hour</th>\n",
       "      <th></th>\n",
       "      <th></th>\n",
       "      <th></th>\n",
       "      <th></th>\n",
       "      <th></th>\n",
       "      <th></th>\n",
       "    </tr>\n",
       "  </thead>\n",
       "  <tbody>\n",
       "    <tr>\n",
       "      <th>0</th>\n",
       "      <td>88.248367</td>\n",
       "      <td>50.741093</td>\n",
       "      <td>50.607333</td>\n",
       "      <td>43.163818</td>\n",
       "      <td>44.515159</td>\n",
       "      <td>49.133910</td>\n",
       "    </tr>\n",
       "    <tr>\n",
       "      <th>1</th>\n",
       "      <td>87.370833</td>\n",
       "      <td>51.013785</td>\n",
       "      <td>49.126854</td>\n",
       "      <td>42.400057</td>\n",
       "      <td>43.739169</td>\n",
       "      <td>48.435530</td>\n",
       "    </tr>\n",
       "    <tr>\n",
       "      <th>2</th>\n",
       "      <td>90.833469</td>\n",
       "      <td>53.184920</td>\n",
       "      <td>49.385732</td>\n",
       "      <td>42.129286</td>\n",
       "      <td>43.961146</td>\n",
       "      <td>49.136316</td>\n",
       "    </tr>\n",
       "    <tr>\n",
       "      <th>3</th>\n",
       "      <td>100.352292</td>\n",
       "      <td>57.246440</td>\n",
       "      <td>51.040342</td>\n",
       "      <td>43.680543</td>\n",
       "      <td>45.715747</td>\n",
       "      <td>51.971579</td>\n",
       "    </tr>\n",
       "    <tr>\n",
       "      <th>4</th>\n",
       "      <td>108.137755</td>\n",
       "      <td>59.940452</td>\n",
       "      <td>53.655831</td>\n",
       "      <td>45.246866</td>\n",
       "      <td>47.587649</td>\n",
       "      <td>54.564697</td>\n",
       "    </tr>\n",
       "  </tbody>\n",
       "</table>\n",
       "</div>"
      ],
      "text/plain": [
       "Year        2017       2018       2019       2020       2021       2022\n",
       "Hour                                                                   \n",
       "0      88.248367  50.741093  50.607333  43.163818  44.515159  49.133910\n",
       "1      87.370833  51.013785  49.126854  42.400057  43.739169  48.435530\n",
       "2      90.833469  53.184920  49.385732  42.129286  43.961146  49.136316\n",
       "3     100.352292  57.246440  51.040342  43.680543  45.715747  51.971579\n",
       "4     108.137755  59.940452  53.655831  45.246866  47.587649  54.564697"
      ]
     },
     "execution_count": 14,
     "metadata": {},
     "output_type": "execute_result"
    }
   ],
   "source": [
    "df.pivot_table(values='PM2.5', index='Hour', columns='Year').head()"
   ]
  },
  {
   "cell_type": "markdown",
   "id": "99987303",
   "metadata": {
    "id": "m60udc-FTCVw",
    "papermill": {
     "duration": 0.013878,
     "end_time": "2022-06-29T11:59:38.521990",
     "exception": false,
     "start_time": "2022-06-29T11:59:38.508112",
     "status": "completed"
    },
    "tags": []
   },
   "source": [
    "*A PivotTable is an interactive way to quickly summarize large amounts of data.*"
   ]
  },
  {
   "cell_type": "code",
   "execution_count": 15,
   "id": "18e22699",
   "metadata": {
    "execution": {
     "iopub.execute_input": "2022-06-29T11:59:38.552618Z",
     "iopub.status.busy": "2022-06-29T11:59:38.552011Z",
     "iopub.status.idle": "2022-06-29T11:59:38.559274Z",
     "shell.execute_reply": "2022-06-29T11:59:38.558615Z"
    },
    "id": "8szOjHxFINv1",
    "outputId": "3481ce77-2d23-4c48-c47b-0d2e8f0211f5",
    "papermill": {
     "duration": 0.024731,
     "end_time": "2022-06-29T11:59:38.561044",
     "exception": false,
     "start_time": "2022-06-29T11:59:38.536313",
     "status": "completed"
    },
    "tags": []
   },
   "outputs": [
    {
     "data": {
      "text/plain": [
       "2020    8356\n",
       "2021    8283\n",
       "2019    7685\n",
       "2018    7537\n",
       "2022    3194\n",
       "2017    1137\n",
       "Name: Year, dtype: int64"
      ]
     },
     "execution_count": 15,
     "metadata": {},
     "output_type": "execute_result"
    }
   ],
   "source": [
    "df['Year'].value_counts()"
   ]
  },
  {
   "cell_type": "markdown",
   "id": "a9028513",
   "metadata": {
    "id": "E0kVt_MLU4c0",
    "papermill": {
     "duration": 0.01449,
     "end_time": "2022-06-29T11:59:38.590222",
     "exception": false,
     "start_time": "2022-06-29T11:59:38.575732",
     "status": "completed"
    },
    "tags": []
   },
   "source": [
    "*The above code gives the total number of values in the form of their counts in the dataset.*"
   ]
  },
  {
   "cell_type": "code",
   "execution_count": 16,
   "id": "91e45ece",
   "metadata": {
    "execution": {
     "iopub.execute_input": "2022-06-29T11:59:38.622251Z",
     "iopub.status.busy": "2022-06-29T11:59:38.621356Z",
     "iopub.status.idle": "2022-06-29T11:59:38.871543Z",
     "shell.execute_reply": "2022-06-29T11:59:38.870480Z"
    },
    "id": "3e0Zi0ZwKAXf",
    "outputId": "c42d7416-1a34-4812-e6cb-516fb663d1ed",
    "papermill": {
     "duration": 0.268902,
     "end_time": "2022-06-29T11:59:38.874325",
     "exception": false,
     "start_time": "2022-06-29T11:59:38.605423",
     "status": "completed"
    },
    "tags": []
   },
   "outputs": [
    {
     "data": {
      "text/plain": [
       "<AxesSubplot:xlabel='Month', ylabel='PM2.5'>"
      ]
     },
     "execution_count": 16,
     "metadata": {},
     "output_type": "execute_result"
    },
    {
     "data": {
      "image/png": "[encoded data removed]",
      "text/plain": [
       "<Figure size 432x288 with 1 Axes>"
      ]
     },
     "metadata": {
      "needs_background": "light"
     },
     "output_type": "display_data"
    }
   ],
   "source": [
    "df2017=df[df['Year']==2017]\n",
    "sns.barplot(x='Month', y='PM2.5', data=df2017)"
   ]
  },
  {
   "cell_type": "markdown",
   "id": "bd895a18",
   "metadata": {
    "id": "IoEWB1mmWHLs",
    "papermill": {
     "duration": 0.014491,
     "end_time": "2022-06-29T11:59:38.903694",
     "exception": false,
     "start_time": "2022-06-29T11:59:38.889203",
     "status": "completed"
    },
    "tags": []
   },
   "source": [
    "*AS the values for 2017, is less as compaired to other data provided . we will further will not give much importance to year 2017, and we will not consider it Majorly For our study. *"
   ]
  },
  {
   "cell_type": "code",
   "execution_count": 17,
   "id": "85c99a6a",
   "metadata": {
    "execution": {
     "iopub.execute_input": "2022-06-29T11:59:38.934568Z",
     "iopub.status.busy": "2022-06-29T11:59:38.933964Z",
     "iopub.status.idle": "2022-06-29T11:59:39.297100Z",
     "shell.execute_reply": "2022-06-29T11:59:39.296428Z"
    },
    "id": "jU4ozyXtECRv",
    "outputId": "132f1510-eea3-4c61-ea38-bb4a8c509302",
    "papermill": {
     "duration": 0.380834,
     "end_time": "2022-06-29T11:59:39.298917",
     "exception": false,
     "start_time": "2022-06-29T11:59:38.918083",
     "status": "completed"
    },
    "tags": []
   },
   "outputs": [
    {
     "data": {
      "text/plain": [
       "<AxesSubplot:xlabel='Year', ylabel='Hour'>"
      ]
     },
     "execution_count": 17,
     "metadata": {},
     "output_type": "execute_result"
    },
    {
     "data": {
      "image/png": "[encoded data removed]",
      "text/plain": [
       "<Figure size 1440x576 with 2 Axes>"
      ]
     },
     "metadata": {
      "needs_background": "light"
     },
     "output_type": "display_data"
    }
   ],
   "source": [
    "fig,axes=plt.subplots(figsize=(20,8))\n",
    "da=df.pivot_table(values='PM2.5', index='Hour', columns='Year')\n",
    "sns.heatmap(da,ax=axes)\n"
   ]
  },
  {
   "cell_type": "markdown",
   "id": "4d29b0e6",
   "metadata": {
    "id": "izaD-LC6Wp1r",
    "papermill": {
     "duration": 0.015369,
     "end_time": "2022-06-29T11:59:39.330146",
     "exception": false,
     "start_time": "2022-06-29T11:59:39.314777",
     "status": "completed"
    },
    "tags": []
   },
   "source": [
    "*The above heatmap, conveys that the data for 2017 is in-sufficient , hence we would only use the data from 2018 to 2020, where we can conclude that the PM levels were low in 2020 & 2021 , while year 2018 and 2022 are having the highest pollution levels and year 2019 is having moderate pollution levels.*"
   ]
  },
  {
   "cell_type": "code",
   "execution_count": 18,
   "id": "1b957c91",
   "metadata": {
    "execution": {
     "iopub.execute_input": "2022-06-29T11:59:39.363704Z",
     "iopub.status.busy": "2022-06-29T11:59:39.363105Z",
     "iopub.status.idle": "2022-06-29T11:59:39.524660Z",
     "shell.execute_reply": "2022-06-29T11:59:39.523651Z"
    },
    "id": "0HIkov3kECLR",
    "outputId": "bfb2c1ae-ffaf-42cd-ec8f-bea2e75ee40c",
    "papermill": {
     "duration": 0.18106,
     "end_time": "2022-06-29T11:59:39.527174",
     "exception": false,
     "start_time": "2022-06-29T11:59:39.346114",
     "status": "completed"
    },
    "tags": []
   },
   "outputs": [
    {
     "data": {
      "text/plain": [
       "<AxesSubplot:xlabel='Year'>"
      ]
     },
     "execution_count": 18,
     "metadata": {},
     "output_type": "execute_result"
    },
    {
     "data": {
      "image/png": "[encoded data removed]",
      "text/plain": [
       "<Figure size 1080x360 with 1 Axes>"
      ]
     },
     "metadata": {
      "needs_background": "light"
     },
     "output_type": "display_data"
    }
   ],
   "source": [
    "fig,axes=plt.subplots(figsize=(15,5))\n",
    "df.groupby('Year')['PM2.5'].mean().plot()"
   ]
  },
  {
   "cell_type": "markdown",
   "id": "6961bbcf",
   "metadata": {
    "id": "P9Q1ANy2XxBx",
    "papermill": {
     "duration": 0.016136,
     "end_time": "2022-06-29T11:59:39.559600",
     "exception": false,
     "start_time": "2022-06-29T11:59:39.543464",
     "status": "completed"
    },
    "tags": []
   },
   "source": [
    "*The above plot is the line plot where we can conclude that the year 2020 is having the lowest pollution levels, due to aftermath of nationwide lockdown due to the pendemic COVID - 19 which is steadly in increaing pattern  post 2020 due to lift in lockdown , in phased manner.year 2018 had the highest pollution levels*"
   ]
  },
  {
   "cell_type": "code",
   "execution_count": 19,
   "id": "e696df4b",
   "metadata": {
    "execution": {
     "iopub.execute_input": "2022-06-29T11:59:39.594549Z",
     "iopub.status.busy": "2022-06-29T11:59:39.593884Z",
     "iopub.status.idle": "2022-06-29T11:59:39.933352Z",
     "shell.execute_reply": "2022-06-29T11:59:39.932336Z"
    },
    "id": "ohMyi8E8EI6l",
    "outputId": "ff689f74-3970-4f22-b055-c944fe72c07a",
    "papermill": {
     "duration": 0.359344,
     "end_time": "2022-06-29T11:59:39.935681",
     "exception": false,
     "start_time": "2022-06-29T11:59:39.576337",
     "status": "completed"
    },
    "tags": []
   },
   "outputs": [
    {
     "data": {
      "text/plain": [
       "<AxesSubplot:xlabel='Month', ylabel='PM2.5'>"
      ]
     },
     "execution_count": 19,
     "metadata": {},
     "output_type": "execute_result"
    },
    {
     "data": {
      "image/png": "[encoded data removed]",
      "text/plain": [
       "<Figure size 1080x360 with 1 Axes>"
      ]
     },
     "metadata": {
      "needs_background": "light"
     },
     "output_type": "display_data"
    }
   ],
   "source": [
    "fig,axes=plt.subplots(figsize=(15,5))\n",
    "sns.boxplot(x=\"Month\", y=\"PM2.5\", data=df, palette='rainbow')"
   ]
  },
  {
   "cell_type": "markdown",
   "id": "3598cf0c",
   "metadata": {
    "id": "8NzhnnZuZSpH",
    "papermill": {
     "duration": 0.016536,
     "end_time": "2022-06-29T11:59:39.969577",
     "exception": false,
     "start_time": "2022-06-29T11:59:39.953041",
     "status": "completed"
    },
    "tags": []
   },
   "source": [
    "*The above boxplots provides the outliner values in the dataset, having highest in the month of no 10,11 and lowest in the month of 5,6,7,8.*"
   ]
  },
  {
   "cell_type": "code",
   "execution_count": 20,
   "id": "93d8d53a",
   "metadata": {
    "execution": {
     "iopub.execute_input": "2022-06-29T11:59:40.004654Z",
     "iopub.status.busy": "2022-06-29T11:59:40.004302Z",
     "iopub.status.idle": "2022-06-29T11:59:40.468591Z",
     "shell.execute_reply": "2022-06-29T11:59:40.467942Z"
    },
    "id": "Mtw8crdREI4R",
    "outputId": "4ac46cff-4701-489a-b001-67ac00d61e1e",
    "papermill": {
     "duration": 0.48423,
     "end_time": "2022-06-29T11:59:40.470681",
     "exception": false,
     "start_time": "2022-06-29T11:59:39.986451",
     "status": "completed"
    },
    "tags": []
   },
   "outputs": [
    {
     "data": {
      "text/plain": [
       "<AxesSubplot:xlabel='Month', ylabel='PM2.5'>"
      ]
     },
     "execution_count": 20,
     "metadata": {},
     "output_type": "execute_result"
    },
    {
     "data": {
      "image/png": "[encoded data removed]",
      "text/plain": [
       "<Figure size 1080x360 with 1 Axes>"
      ]
     },
     "metadata": {
      "needs_background": "light"
     },
     "output_type": "display_data"
    }
   ],
   "source": [
    "fig,axes=plt.subplots(figsize=(15,5))\n",
    "sns.violinplot(x=\"Month\", y=\"PM2.5\", data=df, palette='rainbow')"
   ]
  },
  {
   "cell_type": "markdown",
   "id": "af75707c",
   "metadata": {
    "id": "Gknl3jF7Z765",
    "papermill": {
     "duration": 0.016813,
     "end_time": "2022-06-29T11:59:40.504668",
     "exception": false,
     "start_time": "2022-06-29T11:59:40.487855",
     "status": "completed"
    },
    "tags": []
   },
   "source": [
    "*The above violineplot provides the outliner values in the dataset, having highest in the month of no 10,11 and lowest in the month of 5,6,7,8*."
   ]
  },
  {
   "cell_type": "code",
   "execution_count": 21,
   "id": "e4a70205",
   "metadata": {
    "execution": {
     "iopub.execute_input": "2022-06-29T11:59:40.540657Z",
     "iopub.status.busy": "2022-06-29T11:59:40.539595Z",
     "iopub.status.idle": "2022-06-29T11:59:43.655743Z",
     "shell.execute_reply": "2022-06-29T11:59:43.654985Z"
    },
    "id": "5isBZdq1EI1y",
    "outputId": "cc94fe7b-98fd-45bc-f6f5-afb913aa3d7c",
    "papermill": {
     "duration": 3.136214,
     "end_time": "2022-06-29T11:59:43.657776",
     "exception": false,
     "start_time": "2022-06-29T11:59:40.521562",
     "status": "completed"
    },
    "tags": []
   },
   "outputs": [
    {
     "data": {
      "text/plain": [
       "<matplotlib.legend.Legend at 0x7f21eb884050>"
      ]
     },
     "execution_count": 21,
     "metadata": {},
     "output_type": "execute_result"
    },
    {
     "data": {
      "image/png": "[encoded data removed]",
      "text/plain": [
       "<Figure size 1080x360 with 1 Axes>"
      ]
     },
     "metadata": {
      "needs_background": "light"
     },
     "output_type": "display_data"
    }
   ],
   "source": [
    "fig,axes=plt.subplots(figsize=(15,5))\n",
    "sns.stripplot(x=\"Month\", y=\"PM2.5\", data=df, jitter=True, hue='Month', palette='Set1')\n",
    "plt.legend(loc='upper center')"
   ]
  },
  {
   "cell_type": "markdown",
   "id": "6fa944e0",
   "metadata": {
    "id": "N9z1RwdfbLy3",
    "papermill": {
     "duration": 0.017378,
     "end_time": "2022-06-29T11:59:43.693007",
     "exception": false,
     "start_time": "2022-06-29T11:59:43.675629",
     "status": "completed"
    },
    "tags": []
   },
   "source": [
    "*The above stripplot conveys that in the dataset,is having highest amount of pollution in the month of no 10,11 and lowest in the month of 5,6,7,8.*"
   ]
  },
  {
   "cell_type": "code",
   "execution_count": 22,
   "id": "6456cfc4",
   "metadata": {
    "execution": {
     "iopub.execute_input": "2022-06-29T11:59:43.730051Z",
     "iopub.status.busy": "2022-06-29T11:59:43.729355Z",
     "iopub.status.idle": "2022-06-29T11:59:44.133423Z",
     "shell.execute_reply": "2022-06-29T11:59:44.132680Z"
    },
    "id": "yIGujthOERho",
    "outputId": "91aba5c2-60f1-45cb-d1b6-24429aa8a4f9",
    "papermill": {
     "duration": 0.424805,
     "end_time": "2022-06-29T11:59:44.135447",
     "exception": false,
     "start_time": "2022-06-29T11:59:43.710642",
     "status": "completed"
    },
    "tags": []
   },
   "outputs": [
    {
     "data": {
      "text/plain": [
       "<AxesSubplot:xlabel='PM2.5', ylabel='Density'>"
      ]
     },
     "execution_count": 22,
     "metadata": {},
     "output_type": "execute_result"
    },
    {
     "data": {
      "image/png": "[encoded data removed]",
      "text/plain": [
       "<Figure size 1080x360 with 1 Axes>"
      ]
     },
     "metadata": {
      "needs_background": "light"
     },
     "output_type": "display_data"
    }
   ],
   "source": [
    "fig,axes=plt.subplots(figsize=(15,5))\n",
    "sns.kdeplot(df['PM2.5'])"
   ]
  },
  {
   "cell_type": "markdown",
   "id": "33fcdfbb",
   "metadata": {
    "id": "KqQwi4TAc9sD",
    "papermill": {
     "duration": 0.018521,
     "end_time": "2022-06-29T11:59:44.173377",
     "exception": false,
     "start_time": "2022-06-29T11:59:44.154856",
     "status": "completed"
    },
    "tags": []
   },
   "source": [
    "*the above plot is KDE POLT , which provides the frequency of PM2.5 matter across the data set in years 2017 to 2022, where PM2.5 Of 35 is highest, 45 being the 2 nd highest, which goes on decreasing in the steadily pattern,where 255 being the lowest.*"
   ]
  },
  {
   "cell_type": "code",
   "execution_count": 23,
   "id": "ab08cd8e",
   "metadata": {
    "execution": {
     "iopub.execute_input": "2022-06-29T11:59:44.212666Z",
     "iopub.status.busy": "2022-06-29T11:59:44.211940Z",
     "iopub.status.idle": "2022-06-29T11:59:45.119898Z",
     "shell.execute_reply": "2022-06-29T11:59:45.118725Z"
    },
    "id": "GnP0mBSSFwo1",
    "outputId": "82a7c33c-3837-401a-ff63-7efd2f172710",
    "papermill": {
     "duration": 0.930018,
     "end_time": "2022-06-29T11:59:45.121886",
     "exception": false,
     "start_time": "2022-06-29T11:59:44.191868",
     "status": "completed"
    },
    "tags": []
   },
   "outputs": [
    {
     "data": {
      "text/plain": [
       "<AxesSubplot:xlabel='Month', ylabel='PM2.5'>"
      ]
     },
     "execution_count": 23,
     "metadata": {},
     "output_type": "execute_result"
    },
    {
     "data": {
      "image/png": "[encoded data removed]",
      "text/plain": [
       "<Figure size 1080x360 with 1 Axes>"
      ]
     },
     "metadata": {
      "needs_background": "light"
     },
     "output_type": "display_data"
    }
   ],
   "source": [
    "# fig,axes=plt.subplots(figsize=(15,5))\n",
    "plt.figure(figsize=(15,5))\n",
    "sns.barplot(x='Month', y='PM2.5', data=df)"
   ]
  },
  {
   "cell_type": "markdown",
   "id": "86a509f4",
   "metadata": {
    "id": "8DQYkCn_nv4p",
    "papermill": {
     "duration": 0.01888,
     "end_time": "2022-06-29T11:59:45.159980",
     "exception": false,
     "start_time": "2022-06-29T11:59:45.141100",
     "status": "completed"
    },
    "tags": []
   },
   "source": [
    "*The above code written is for the bar graph,for which dataset values are provided , on which MONTH in nos is on x -axis and PM2.5 is on Y axis.The bar graph gives the overall distribution of polution levels in terms of PM 2.5 over the Months in India*.  "
   ]
  },
  {
   "cell_type": "markdown",
   "id": "ea56d8c2",
   "metadata": {
    "id": "hVIislDvTjO-",
    "papermill": {
     "duration": 0.018825,
     "end_time": "2022-06-29T11:59:45.198014",
     "exception": false,
     "start_time": "2022-06-29T11:59:45.179189",
     "status": "completed"
    },
    "tags": []
   },
   "source": [
    "**INSIGHTS FROM THE DATASET / OVER ALL CONCLUSION AFTER STUDYING THE DATA**"
   ]
  },
  {
   "cell_type": "markdown",
   "id": "80cd37d3",
   "metadata": {
    "id": "5cX4oHYyT1U7",
    "papermill": {
     "duration": 0.019056,
     "end_time": "2022-06-29T11:59:45.236726",
     "exception": false,
     "start_time": "2022-06-29T11:59:45.217670",
     "status": "completed"
    },
    "tags": []
   },
   "source": [
    "After Analyzing graph through the given dataset, we can say that,\n",
    "\n",
    "1.  In INDIA from month of  octobar,marks the beginning of winter season where the temperture ranges from 2 degrees to 30 degree centegrate throughout the lenght  and breadth of country. \n",
    "\n",
    "\n",
    "2. where the majority of the region is free from any moisture and the season is absolutly dry. \n",
    "\n",
    "\n",
    "3. With** burning of paddy fields** to prepare the farms for Rabi crop and  **Diwali festival**, India sees **large amount of pollution** hence increase in PM 2.5\n",
    "\n",
    "\n",
    "4. Therefore,the Months,10,11,12,1** ( Octobar TO January ) Sees high amount of PM 2.5 Matter.**\n",
    "\n",
    "\n",
    "5. India also witness strong ,** South-West Moonsoon Winds ( Rainfall )** , in the Months 6,7,8,9( June TO  September ), where most of the** region is wet** and s**ees less amount of PM2.5 matters.**\n",
    "\n",
    "\n",
    "6. Remaining Months 2,3,4,5 **( Feburary To May )** India , witness Hrash Summer, with clear skies, and** medium amount of Forests Fires**, hence the **PM2.5 levels are moderate.**\n",
    "\n",
    "\n",
    "\n",
    "\n"
   ]
  },
  {
   "cell_type": "markdown",
   "id": "b43b4491",
   "metadata": {
    "id": "xYSVtNpIeuY9",
    "papermill": {
     "duration": 0.018884,
     "end_time": "2022-06-29T11:59:45.275080",
     "exception": false,
     "start_time": "2022-06-29T11:59:45.256196",
     "status": "completed"
    },
    "tags": []
   },
   "source": [
    "SPECIAL CASE ----**  COVID - 19 Pendamic**\n",
    "  \n",
    "*  As, we all know , India too went into complete lockdown in year 2020 , for majority of months,therefore the PM2.5 levels in the country dropped by considerable amount.Hence , Year 2020 saw dip in PM2.5 amount*"
   ]
  },
  {
   "cell_type": "markdown",
   "id": "56f5d233",
   "metadata": {
    "id": "_zGBuIedNt41",
    "papermill": {
     "duration": 0.018586,
     "end_time": "2022-06-29T11:59:45.312912",
     "exception": false,
     "start_time": "2022-06-29T11:59:45.294326",
     "status": "completed"
    },
    "tags": []
   },
   "source": [
    "***CHECK , TO SUPPORT THE  CONCLUSION PROVIDED ABOVE***"
   ]
  },
  {
   "cell_type": "markdown",
   "id": "81d3bc25",
   "metadata": {
    "id": "tw0qcYE1jS0p",
    "papermill": {
     "duration": 0.018956,
     "end_time": "2022-06-29T11:59:45.350780",
     "exception": false,
     "start_time": "2022-06-29T11:59:45.331824",
     "status": "completed"
    },
    "tags": []
   },
   "source": [
    "*Here, A check is provided , to see , wheather, the PM2.5 levels are influenced by indian weather pattern or Not. OR Influenced by the SPECIAL CASE of covid 19 where lockdown was implemented.*\n"
   ]
  },
  {
   "cell_type": "code",
   "execution_count": 24,
   "id": "67193870",
   "metadata": {
    "execution": {
     "iopub.execute_input": "2022-06-29T11:59:45.391466Z",
     "iopub.status.busy": "2022-06-29T11:59:45.390813Z",
     "iopub.status.idle": "2022-06-29T11:59:45.402900Z",
     "shell.execute_reply": "2022-06-29T11:59:45.402283Z"
    },
    "id": "AMVel7KBKXJ2",
    "outputId": "8aa0a642-4849-4469-8dfd-aaf95673fbbd",
    "papermill": {
     "duration": 0.035448,
     "end_time": "2022-06-29T11:59:45.405772",
     "exception": false,
     "start_time": "2022-06-29T11:59:45.370324",
     "status": "completed"
    },
    "tags": []
   },
   "outputs": [
    {
     "data": {
      "text/html": [
       "<div>\n",
       "<style scoped>\n",
       "    .dataframe tbody tr th:only-of-type {\n",
       "        vertical-align: middle;\n",
       "    }\n",
       "\n",
       "    .dataframe tbody tr th {\n",
       "        vertical-align: top;\n",
       "    }\n",
       "\n",
       "    .dataframe thead th {\n",
       "        text-align: right;\n",
       "    }\n",
       "</style>\n",
       "<table border=\"1\" class=\"dataframe\">\n",
       "  <thead>\n",
       "    <tr style=\"text-align: right;\">\n",
       "      <th></th>\n",
       "      <th>Timestamp</th>\n",
       "      <th>Year</th>\n",
       "      <th>Month</th>\n",
       "      <th>Day</th>\n",
       "      <th>Hour</th>\n",
       "      <th>PM2.5</th>\n",
       "    </tr>\n",
       "  </thead>\n",
       "  <tbody>\n",
       "    <tr>\n",
       "      <th>0</th>\n",
       "      <td>2017-11-07 12:00:00</td>\n",
       "      <td>2017</td>\n",
       "      <td>11</td>\n",
       "      <td>7</td>\n",
       "      <td>12</td>\n",
       "      <td>64.51</td>\n",
       "    </tr>\n",
       "    <tr>\n",
       "      <th>1</th>\n",
       "      <td>2017-11-07 13:00:00</td>\n",
       "      <td>2017</td>\n",
       "      <td>11</td>\n",
       "      <td>7</td>\n",
       "      <td>13</td>\n",
       "      <td>69.95</td>\n",
       "    </tr>\n",
       "    <tr>\n",
       "      <th>2</th>\n",
       "      <td>2017-11-07 14:00:00</td>\n",
       "      <td>2017</td>\n",
       "      <td>11</td>\n",
       "      <td>7</td>\n",
       "      <td>14</td>\n",
       "      <td>92.79</td>\n",
       "    </tr>\n",
       "    <tr>\n",
       "      <th>3</th>\n",
       "      <td>2017-11-07 15:00:00</td>\n",
       "      <td>2017</td>\n",
       "      <td>11</td>\n",
       "      <td>7</td>\n",
       "      <td>15</td>\n",
       "      <td>109.66</td>\n",
       "    </tr>\n",
       "    <tr>\n",
       "      <th>4</th>\n",
       "      <td>2017-11-07 16:00:00</td>\n",
       "      <td>2017</td>\n",
       "      <td>11</td>\n",
       "      <td>7</td>\n",
       "      <td>16</td>\n",
       "      <td>116.50</td>\n",
       "    </tr>\n",
       "  </tbody>\n",
       "</table>\n",
       "</div>"
      ],
      "text/plain": [
       "             Timestamp  Year  Month  Day  Hour   PM2.5\n",
       "0  2017-11-07 12:00:00  2017     11    7    12   64.51\n",
       "1  2017-11-07 13:00:00  2017     11    7    13   69.95\n",
       "2  2017-11-07 14:00:00  2017     11    7    14   92.79\n",
       "3  2017-11-07 15:00:00  2017     11    7    15  109.66\n",
       "4  2017-11-07 16:00:00  2017     11    7    16  116.50"
      ]
     },
     "execution_count": 24,
     "metadata": {},
     "output_type": "execute_result"
    }
   ],
   "source": [
    "df2=df.copy()\n",
    "df2.head()"
   ]
  },
  {
   "cell_type": "code",
   "execution_count": 25,
   "id": "8da3b9d1",
   "metadata": {
    "execution": {
     "iopub.execute_input": "2022-06-29T11:59:45.450334Z",
     "iopub.status.busy": "2022-06-29T11:59:45.449688Z",
     "iopub.status.idle": "2022-06-29T11:59:45.454997Z",
     "shell.execute_reply": "2022-06-29T11:59:45.454367Z"
    },
    "id": "bCb6XMG-Jd6T",
    "papermill": {
     "duration": 0.027673,
     "end_time": "2022-06-29T11:59:45.456862",
     "exception": false,
     "start_time": "2022-06-29T11:59:45.429189",
     "status": "completed"
    },
    "tags": []
   },
   "outputs": [],
   "source": [
    "df2020=df2[df2['Year']==2020]"
   ]
  },
  {
   "cell_type": "code",
   "execution_count": 26,
   "id": "f3fc16f2",
   "metadata": {
    "execution": {
     "iopub.execute_input": "2022-06-29T11:59:45.497434Z",
     "iopub.status.busy": "2022-06-29T11:59:45.496798Z",
     "iopub.status.idle": "2022-06-29T11:59:46.149055Z",
     "shell.execute_reply": "2022-06-29T11:59:46.148146Z"
    },
    "id": "qFmubEPC9BZV",
    "outputId": "c41ba136-e90e-40c1-8bc5-7f1558002860",
    "papermill": {
     "duration": 0.67506,
     "end_time": "2022-06-29T11:59:46.151409",
     "exception": false,
     "start_time": "2022-06-29T11:59:45.476349",
     "status": "completed"
    },
    "tags": []
   },
   "outputs": [
    {
     "data": {
      "text/plain": [
       "<AxesSubplot:xlabel='Month', ylabel='PM2.5'>"
      ]
     },
     "execution_count": 26,
     "metadata": {},
     "output_type": "execute_result"
    },
    {
     "data": {
      "image/png": "[encoded data removed]",
      "text/plain": [
       "<Figure size 1080x360 with 1 Axes>"
      ]
     },
     "metadata": {
      "needs_background": "light"
     },
     "output_type": "display_data"
    }
   ],
   "source": [
    "# for year 2020 only\n",
    "plt.figure(figsize=(15,5))\n",
    "sns.barplot(x='Month', y='PM2.5', data=df2020)"
   ]
  },
  {
   "cell_type": "markdown",
   "id": "f42ac1f6",
   "metadata": {
    "id": "3087JBSHi9kk",
    "papermill": {
     "duration": 0.019916,
     "end_time": "2022-06-29T11:59:46.191108",
     "exception": false,
     "start_time": "2022-06-29T11:59:46.171192",
     "status": "completed"
    },
    "tags": []
   },
   "source": [
    "*Bar Graph for 2020 in months EXCLUDING OTHER YEARS.*"
   ]
  },
  {
   "cell_type": "code",
   "execution_count": 27,
   "id": "6f3614d2",
   "metadata": {
    "execution": {
     "iopub.execute_input": "2022-06-29T11:59:46.232342Z",
     "iopub.status.busy": "2022-06-29T11:59:46.231551Z",
     "iopub.status.idle": "2022-06-29T11:59:46.237709Z",
     "shell.execute_reply": "2022-06-29T11:59:46.237062Z"
    },
    "id": "uRMa8uFCJlnW",
    "papermill": {
     "duration": 0.02861,
     "end_time": "2022-06-29T11:59:46.239454",
     "exception": false,
     "start_time": "2022-06-29T11:59:46.210844",
     "status": "completed"
    },
    "tags": []
   },
   "outputs": [],
   "source": [
    "df2020=df2[df2['Year']!=2020]"
   ]
  },
  {
   "cell_type": "code",
   "execution_count": 28,
   "id": "5b70a2b7",
   "metadata": {
    "execution": {
     "iopub.execute_input": "2022-06-29T11:59:46.282001Z",
     "iopub.status.busy": "2022-06-29T11:59:46.281071Z",
     "iopub.status.idle": "2022-06-29T11:59:47.109297Z",
     "shell.execute_reply": "2022-06-29T11:59:47.108362Z"
    },
    "id": "YAMMGNeX_MpI",
    "outputId": "613376ea-d039-4f0d-dfb6-5a4c6ece594c",
    "papermill": {
     "duration": 0.851301,
     "end_time": "2022-06-29T11:59:47.111239",
     "exception": false,
     "start_time": "2022-06-29T11:59:46.259938",
     "status": "completed"
    },
    "tags": []
   },
   "outputs": [
    {
     "data": {
      "text/plain": [
       "<AxesSubplot:xlabel='Month', ylabel='PM2.5'>"
      ]
     },
     "execution_count": 28,
     "metadata": {},
     "output_type": "execute_result"
    },
    {
     "data": {
      "image/png": "[encoded data removed]",
      "text/plain": [
       "<Figure size 1080x360 with 1 Axes>"
      ]
     },
     "metadata": {
      "needs_background": "light"
     },
     "output_type": "display_data"
    }
   ],
   "source": [
    "# for all the years except 2020\n",
    "plt.figure(figsize=(15,5))\n",
    "sns.barplot(x='Month', y='PM2.5', data=df2020)"
   ]
  },
  {
   "cell_type": "markdown",
   "id": "9180f05b",
   "metadata": {
    "id": "dNNVU3jphhcm",
    "papermill": {
     "duration": 0.020361,
     "end_time": "2022-06-29T11:59:47.151358",
     "exception": false,
     "start_time": "2022-06-29T11:59:47.130997",
     "status": "completed"
    },
    "tags": []
   },
   "source": [
    "*Bar Graph for 2017 to 2022 in months EXCEPT 2020*"
   ]
  },
  {
   "cell_type": "code",
   "execution_count": 29,
   "id": "66bfba5e",
   "metadata": {
    "execution": {
     "iopub.execute_input": "2022-06-29T11:59:47.194019Z",
     "iopub.status.busy": "2022-06-29T11:59:47.193052Z",
     "iopub.status.idle": "2022-06-29T11:59:48.040509Z",
     "shell.execute_reply": "2022-06-29T11:59:48.039843Z"
    },
    "id": "4jnEBA49qvaP",
    "outputId": "9814676e-23d4-46cc-c829-16efa1bb09bf",
    "papermill": {
     "duration": 0.870848,
     "end_time": "2022-06-29T11:59:48.042250",
     "exception": false,
     "start_time": "2022-06-29T11:59:47.171402",
     "status": "completed"
    },
    "tags": []
   },
   "outputs": [
    {
     "data": {
      "text/plain": [
       "<AxesSubplot:xlabel='Year', ylabel='PM2.5'>"
      ]
     },
     "execution_count": 29,
     "metadata": {},
     "output_type": "execute_result"
    },
    {
     "data": {
      "image/png": "[encoded data removed]",
      "text/plain": [
       "<Figure size 1080x360 with 1 Axes>"
      ]
     },
     "metadata": {
      "needs_background": "light"
     },
     "output_type": "display_data"
    }
   ],
   "source": [
    "# all year data\n",
    "plt.figure(figsize=(15,5))\n",
    "sns.barplot(x='Year', y='PM2.5', data=df)"
   ]
  },
  {
   "cell_type": "markdown",
   "id": "22ece7f8",
   "metadata": {
    "id": "mrshG-kQRdBJ",
    "papermill": {
     "duration": 0.020095,
     "end_time": "2022-06-29T11:59:48.082477",
     "exception": false,
     "start_time": "2022-06-29T11:59:48.062382",
     "status": "completed"
    },
    "tags": []
   },
   "source": [
    "*The above bar graph provides the overall PM 2.5  levels , over the years , where it can be seen that year 2020 has the lowest PM2.5 levels. *"
   ]
  },
  {
   "cell_type": "markdown",
   "id": "0a66fab5",
   "metadata": {
    "id": "cXswtxFfOOmS",
    "papermill": {
     "duration": 0.01933,
     "end_time": "2022-06-29T11:59:48.121625",
     "exception": false,
     "start_time": "2022-06-29T11:59:48.102295",
     "status": "completed"
    },
    "tags": []
   },
   "source": [
    "\n",
    "1.  From , here we can easily conclude that, the pollution pattern in India in the form of PM 2.5 , is majorly influenceed, **by the weather pattern** \n",
    "\n",
    "2. Except for the year 2020 where India witnessed a nationwide lockdown , due to onset of covid-19.\n",
    "\n",
    "3.  \n",
    " Hence the PM2.5 matter for that particular year was lower as compared to \n",
    "all other years given in the  dataset.\n"
   ]
  }
 ],
 "metadata": {
  "kernelspec": {
   "display_name": "Python 3",
   "language": "python",
   "name": "python3"
  },
  "language_info": {
   "codemirror_mode": {
    "name": "ipython",
    "version": 3
   },
   "file_extension": ".py",
   "mimetype": "text/x-python",
   "name": "python",
   "nbconvert_exporter": "python",
   "pygments_lexer": "ipython3",
   "version": "3.7.12"
  },
  "papermill": {
   "default_parameters": {},
   "duration": 21.812195,
   "end_time": "2022-06-29T11:59:48.863531",
   "environment_variables": {},
   "exception": null,
   "input_path": "__notebook__.ipynb",
   "output_path": "__notebook__.ipynb",
   "parameters": {},
   "start_time": "2022-06-29T11:59:27.051336",
   "version": "2.3.4"
  }
 },
 "nbformat": 4,
 "nbformat_minor": 5
}
